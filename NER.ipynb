{
 "cells": [
  {
   "cell_type": "markdown",
   "metadata": {},
   "source": [
    "# Import"
   ]
  },
  {
   "cell_type": "code",
   "execution_count": 252,
   "metadata": {},
   "outputs": [
    {
     "name": "stdout",
     "output_type": "stream",
     "text": [
      "Requirement already satisfied: torch in c:\\users\\admin\\appdata\\local\\programs\\python\\python39\\lib\\site-packages (2.2.2)\n",
      "Requirement already satisfied: filelock in c:\\users\\admin\\appdata\\local\\programs\\python\\python39\\lib\\site-packages (from torch) (3.16.0)\n",
      "Requirement already satisfied: typing-extensions>=4.8.0 in c:\\users\\admin\\appdata\\local\\programs\\python\\python39\\lib\\site-packages (from torch) (4.12.2)\n",
      "Requirement already satisfied: sympy in c:\\users\\admin\\appdata\\local\\programs\\python\\python39\\lib\\site-packages (from torch) (1.13.2)\n",
      "Requirement already satisfied: networkx in c:\\users\\admin\\appdata\\local\\programs\\python\\python39\\lib\\site-packages (from torch) (3.2.1)\n",
      "Requirement already satisfied: jinja2 in c:\\users\\admin\\appdata\\local\\programs\\python\\python39\\lib\\site-packages (from torch) (3.1.4)\n",
      "Requirement already satisfied: fsspec in c:\\users\\admin\\appdata\\local\\programs\\python\\python39\\lib\\site-packages (from torch) (2024.9.0)\n",
      "Requirement already satisfied: MarkupSafe>=2.0 in c:\\users\\admin\\appdata\\local\\programs\\python\\python39\\lib\\site-packages (from jinja2->torch) (2.1.5)\n",
      "Requirement already satisfied: mpmath<1.4,>=1.1.0 in c:\\users\\admin\\appdata\\local\\programs\\python\\python39\\lib\\site-packages (from sympy->torch) (1.3.0)\n",
      "Requirement already satisfied: transformers in c:\\users\\admin\\appdata\\local\\programs\\python\\python39\\lib\\site-packages (4.46.3)\n",
      "Requirement already satisfied: filelock in c:\\users\\admin\\appdata\\local\\programs\\python\\python39\\lib\\site-packages (from transformers) (3.16.0)\n",
      "Requirement already satisfied: huggingface-hub<1.0,>=0.23.2 in c:\\users\\admin\\appdata\\local\\programs\\python\\python39\\lib\\site-packages (from transformers) (0.25.1)\n",
      "Requirement already satisfied: numpy>=1.17 in c:\\users\\admin\\appdata\\local\\programs\\python\\python39\\lib\\site-packages (from transformers) (1.24.3)\n",
      "Requirement already satisfied: packaging>=20.0 in c:\\users\\admin\\appdata\\local\\programs\\python\\python39\\lib\\site-packages (from transformers) (24.1)\n",
      "Requirement already satisfied: pyyaml>=5.1 in c:\\users\\admin\\appdata\\local\\programs\\python\\python39\\lib\\site-packages (from transformers) (6.0.2)\n",
      "Requirement already satisfied: regex!=2019.12.17 in c:\\users\\admin\\appdata\\local\\programs\\python\\python39\\lib\\site-packages (from transformers) (2024.7.24)\n",
      "Requirement already satisfied: requests in c:\\users\\admin\\appdata\\local\\programs\\python\\python39\\lib\\site-packages (from transformers) (2.32.3)\n",
      "Requirement already satisfied: tokenizers<0.21,>=0.20 in c:\\users\\admin\\appdata\\local\\programs\\python\\python39\\lib\\site-packages (from transformers) (0.20.3)\n",
      "Requirement already satisfied: safetensors>=0.4.1 in c:\\users\\admin\\appdata\\local\\programs\\python\\python39\\lib\\site-packages (from transformers) (0.4.5)\n",
      "Requirement already satisfied: tqdm>=4.27 in c:\\users\\admin\\appdata\\local\\programs\\python\\python39\\lib\\site-packages (from transformers) (4.66.5)\n",
      "Requirement already satisfied: fsspec>=2023.5.0 in c:\\users\\admin\\appdata\\local\\programs\\python\\python39\\lib\\site-packages (from huggingface-hub<1.0,>=0.23.2->transformers) (2024.9.0)\n",
      "Requirement already satisfied: typing-extensions>=3.7.4.3 in c:\\users\\admin\\appdata\\local\\programs\\python\\python39\\lib\\site-packages (from huggingface-hub<1.0,>=0.23.2->transformers) (4.12.2)\n",
      "Requirement already satisfied: colorama in c:\\users\\admin\\appdata\\roaming\\python\\python39\\site-packages (from tqdm>=4.27->transformers) (0.4.6)\n",
      "Requirement already satisfied: charset-normalizer<4,>=2 in c:\\users\\admin\\appdata\\local\\programs\\python\\python39\\lib\\site-packages (from requests->transformers) (3.3.2)\n",
      "Requirement already satisfied: idna<4,>=2.5 in c:\\users\\admin\\appdata\\local\\programs\\python\\python39\\lib\\site-packages (from requests->transformers) (3.8)\n",
      "Requirement already satisfied: urllib3<3,>=1.21.1 in c:\\users\\admin\\appdata\\local\\programs\\python\\python39\\lib\\site-packages (from requests->transformers) (2.2.2)\n",
      "Requirement already satisfied: certifi>=2017.4.17 in c:\\users\\admin\\appdata\\local\\programs\\python\\python39\\lib\\site-packages (from requests->transformers) (2024.8.30)\n",
      "Requirement already satisfied: sklearn-crfsuite in c:\\users\\admin\\appdata\\local\\programs\\python\\python39\\lib\\site-packages (0.5.0)\n",
      "Requirement already satisfied: python-crfsuite>=0.9.7 in c:\\users\\admin\\appdata\\local\\programs\\python\\python39\\lib\\site-packages (from sklearn-crfsuite) (0.9.11)\n",
      "Requirement already satisfied: scikit-learn>=0.24.0 in c:\\users\\admin\\appdata\\local\\programs\\python\\python39\\lib\\site-packages (from sklearn-crfsuite) (1.5.1)\n",
      "Requirement already satisfied: tabulate>=0.4.2 in c:\\users\\admin\\appdata\\local\\programs\\python\\python39\\lib\\site-packages (from sklearn-crfsuite) (0.9.0)\n",
      "Requirement already satisfied: tqdm>=2.0 in c:\\users\\admin\\appdata\\local\\programs\\python\\python39\\lib\\site-packages (from sklearn-crfsuite) (4.66.5)\n",
      "Requirement already satisfied: numpy>=1.19.5 in c:\\users\\admin\\appdata\\local\\programs\\python\\python39\\lib\\site-packages (from scikit-learn>=0.24.0->sklearn-crfsuite) (1.24.3)\n",
      "Requirement already satisfied: scipy>=1.6.0 in c:\\users\\admin\\appdata\\local\\programs\\python\\python39\\lib\\site-packages (from scikit-learn>=0.24.0->sklearn-crfsuite) (1.13.1)\n",
      "Requirement already satisfied: joblib>=1.2.0 in c:\\users\\admin\\appdata\\local\\programs\\python\\python39\\lib\\site-packages (from scikit-learn>=0.24.0->sklearn-crfsuite) (1.4.2)\n",
      "Requirement already satisfied: threadpoolctl>=3.1.0 in c:\\users\\admin\\appdata\\local\\programs\\python\\python39\\lib\\site-packages (from scikit-learn>=0.24.0->sklearn-crfsuite) (3.5.0)\n",
      "Requirement already satisfied: colorama in c:\\users\\admin\\appdata\\roaming\\python\\python39\\site-packages (from tqdm>=2.0->sklearn-crfsuite) (0.4.6)\n"
     ]
    }
   ],
   "source": [
    "!pip install torch\n",
    "!pip install transformers\n",
    "!pip install sklearn-crfsuite"
   ]
  },
  {
   "cell_type": "code",
   "execution_count": 253,
   "metadata": {},
   "outputs": [
    {
     "name": "stderr",
     "output_type": "stream",
     "text": [
      "[nltk_data] Downloading package stopwords to\n",
      "[nltk_data]     C:\\Users\\admin\\AppData\\Roaming\\nltk_data...\n",
      "[nltk_data]   Package stopwords is already up-to-date!\n",
      "[nltk_data] Downloading package averaged_perceptron_tagger to\n",
      "[nltk_data]     C:\\Users\\admin\\AppData\\Roaming\\nltk_data...\n",
      "[nltk_data]   Package averaged_perceptron_tagger is already up-to-\n",
      "[nltk_data]       date!\n"
     ]
    },
    {
     "data": {
      "text/plain": [
       "True"
      ]
     },
     "execution_count": 253,
     "metadata": {},
     "output_type": "execute_result"
    }
   ],
   "source": [
    "import pickle\n",
    "import operator\n",
    "import re\n",
    "import string\n",
    "import numpy as np \n",
    "import pandas as pd\n",
    "import matplotlib.pyplot as plt\n",
    "import seaborn as sns\n",
    "import torch\n",
    "from torch import nn\n",
    "from torch.utils.data import Dataset\n",
    "from torch.utils.data import DataLoader\n",
    "import ast\n",
    "from sklearn.model_selection import train_test_split\n",
    "import sklearn_crfsuite\n",
    "from sklearn_crfsuite import CRF\n",
    "from sklearn.model_selection import RandomizedSearchCV\n",
    "from sklearn.metrics import f1_score, recall_score, classification_report, multilabel_confusion_matrix, ConfusionMatrixDisplay\n",
    "\n",
    "import nltk\n",
    "import re\n",
    "from nltk.corpus import stopwords\n",
    "nltk.download('stopwords')\n",
    "nltk.download('averaged_perceptron_tagger')"
   ]
  },
  {
   "cell_type": "code",
   "execution_count": 254,
   "metadata": {},
   "outputs": [],
   "source": [
    "import tensorflow as tf\n",
    "from tensorflow.keras.preprocessing.sequence import pad_sequences\n",
    "from tensorflow.keras.utils import to_categorical\n",
    "from sklearn.model_selection import train_test_split\n",
    "from tensorflow.keras import Model, Input , models , layers\n",
    "from tensorflow.keras.layers import LSTM, Embedding, Dense\n",
    "from keras.models import Sequential\n",
    "from keras.metrics import Precision, Recall\n",
    "from tensorflow.keras.layers import TimeDistributed, SpatialDropout1D, Bidirectional\n",
    "from tensorflow.keras.callbacks import ModelCheckpoint, EarlyStopping\n",
    "\n",
    "from keras.layers import  Conv1D, MaxPooling1D, Dropout\n",
    "\n",
    "import sklearn_crfsuite\n",
    "from sklearn_crfsuite import scorers\n",
    "from sklearn_crfsuite import metrics\n",
    "import scipy.stats\n",
    "from sklearn.metrics import make_scorer\n",
    "from sklearn.preprocessing import LabelEncoder\n",
    "from keras.preprocessing.sequence import pad_sequences\n",
    "import tensorflow_addons as tfa\n",
    "\n",
    "import spacy"
   ]
  },
  {
   "cell_type": "markdown",
   "metadata": {},
   "source": [
    "# Data"
   ]
  },
  {
   "cell_type": "markdown",
   "metadata": {},
   "source": [
    "geo = Geographical Entity\n",
    "\n",
    "org = Organization\n",
    "\n",
    "per = Person\n",
    "\n",
    "gpe = Geopolitical Entity\n",
    "\n",
    "tim = Time indicator\n",
    "\n",
    "art = Artifact\n",
    "\n",
    "eve = Event\n",
    "\n",
    "nat = Natural Phenomenon"
   ]
  },
  {
   "cell_type": "code",
   "execution_count": 255,
   "metadata": {},
   "outputs": [
    {
     "data": {
      "text/html": [
       "<div>\n",
       "<style scoped>\n",
       "    .dataframe tbody tr th:only-of-type {\n",
       "        vertical-align: middle;\n",
       "    }\n",
       "\n",
       "    .dataframe tbody tr th {\n",
       "        vertical-align: top;\n",
       "    }\n",
       "\n",
       "    .dataframe thead th {\n",
       "        text-align: right;\n",
       "    }\n",
       "</style>\n",
       "<table border=\"1\" class=\"dataframe\">\n",
       "  <thead>\n",
       "    <tr style=\"text-align: right;\">\n",
       "      <th></th>\n",
       "      <th>text</th>\n",
       "      <th>labels</th>\n",
       "    </tr>\n",
       "  </thead>\n",
       "  <tbody>\n",
       "    <tr>\n",
       "      <th>0</th>\n",
       "      <td>Thousands of demonstrators have marched throug...</td>\n",
       "      <td>O O O O O O B-geo O O O O O B-geo O O O O O B-...</td>\n",
       "    </tr>\n",
       "    <tr>\n",
       "      <th>1</th>\n",
       "      <td>Iranian officials say they expect to get acces...</td>\n",
       "      <td>B-gpe O O O O O O O O O O O O O O B-tim O O O ...</td>\n",
       "    </tr>\n",
       "    <tr>\n",
       "      <th>2</th>\n",
       "      <td>Helicopter gunships Saturday pounded militant ...</td>\n",
       "      <td>O O B-tim O O O O O B-geo O O O O O B-org O O ...</td>\n",
       "    </tr>\n",
       "    <tr>\n",
       "      <th>3</th>\n",
       "      <td>They left after a tense hour-long standoff wit...</td>\n",
       "      <td>O O O O O O O O O O O</td>\n",
       "    </tr>\n",
       "    <tr>\n",
       "      <th>4</th>\n",
       "      <td>U.N. relief coordinator Jan Egeland said Sunda...</td>\n",
       "      <td>B-geo O O B-per I-per O B-tim O B-geo O B-gpe ...</td>\n",
       "    </tr>\n",
       "  </tbody>\n",
       "</table>\n",
       "</div>"
      ],
      "text/plain": [
       "                                                text  \\\n",
       "0  Thousands of demonstrators have marched throug...   \n",
       "1  Iranian officials say they expect to get acces...   \n",
       "2  Helicopter gunships Saturday pounded militant ...   \n",
       "3  They left after a tense hour-long standoff wit...   \n",
       "4  U.N. relief coordinator Jan Egeland said Sunda...   \n",
       "\n",
       "                                              labels  \n",
       "0  O O O O O O B-geo O O O O O B-geo O O O O O B-...  \n",
       "1  B-gpe O O O O O O O O O O O O O O B-tim O O O ...  \n",
       "2  O O B-tim O O O O O B-geo O O O O O B-org O O ...  \n",
       "3                              O O O O O O O O O O O  \n",
       "4  B-geo O O B-per I-per O B-tim O B-geo O B-gpe ...  "
      ]
     },
     "execution_count": 255,
     "metadata": {},
     "output_type": "execute_result"
    }
   ],
   "source": [
    "df = pd.read_csv('ner.csv')\n",
    "df.head()"
   ]
  },
  {
   "cell_type": "markdown",
   "metadata": {},
   "source": [
    "# EDA"
   ]
  },
  {
   "cell_type": "code",
   "execution_count": 256,
   "metadata": {},
   "outputs": [
    {
     "data": {
      "text/html": [
       "<div>\n",
       "<style scoped>\n",
       "    .dataframe tbody tr th:only-of-type {\n",
       "        vertical-align: middle;\n",
       "    }\n",
       "\n",
       "    .dataframe tbody tr th {\n",
       "        vertical-align: top;\n",
       "    }\n",
       "\n",
       "    .dataframe thead th {\n",
       "        text-align: right;\n",
       "    }\n",
       "</style>\n",
       "<table border=\"1\" class=\"dataframe\">\n",
       "  <thead>\n",
       "    <tr style=\"text-align: right;\">\n",
       "      <th></th>\n",
       "      <th>text</th>\n",
       "      <th>labels</th>\n",
       "    </tr>\n",
       "  </thead>\n",
       "  <tbody>\n",
       "    <tr>\n",
       "      <th>count</th>\n",
       "      <td>47959</td>\n",
       "      <td>47959</td>\n",
       "    </tr>\n",
       "    <tr>\n",
       "      <th>unique</th>\n",
       "      <td>47575</td>\n",
       "      <td>33318</td>\n",
       "    </tr>\n",
       "    <tr>\n",
       "      <th>top</th>\n",
       "      <td>VOA 's Mil Arcega reports .</td>\n",
       "      <td>O O O O O O O O O O O</td>\n",
       "    </tr>\n",
       "    <tr>\n",
       "      <th>freq</th>\n",
       "      <td>17</td>\n",
       "      <td>450</td>\n",
       "    </tr>\n",
       "  </tbody>\n",
       "</table>\n",
       "</div>"
      ],
      "text/plain": [
       "                               text                 labels\n",
       "count                         47959                  47959\n",
       "unique                        47575                  33318\n",
       "top     VOA 's Mil Arcega reports .  O O O O O O O O O O O\n",
       "freq                             17                    450"
      ]
     },
     "execution_count": 256,
     "metadata": {},
     "output_type": "execute_result"
    }
   ],
   "source": [
    "df.describe()"
   ]
  },
  {
   "cell_type": "markdown",
   "metadata": {},
   "source": [
    "В столбце text имеется 47575 уникальных значений, что означает, что большая часть текстов различается, и только небольшое количество из них повторяется.\n",
    "В столбце labels 33318 уникальных значений говорит о том, что эти метки разнообразны.\n",
    "\n",
    "В столбце text самое частое значение — это \"VOA 's Mil Arcega reports.\", которое повторяется 17 раз. Это может указывать на то, что в данных есть много похожих или повторяющихся текстов.\n",
    "В столбце labels наиболее часто встречающееся значение встречается 450 раз, что говорит о том, что одна из меток является значительно более распространенной, чем другие."
   ]
  },
  {
   "cell_type": "code",
   "execution_count": 257,
   "metadata": {},
   "outputs": [
    {
     "data": {
      "text/plain": [
       "text      0\n",
       "labels    0\n",
       "dtype: int64"
      ]
     },
     "execution_count": 257,
     "metadata": {},
     "output_type": "execute_result"
    }
   ],
   "source": [
    "df.isna().sum()"
   ]
  },
  {
   "cell_type": "markdown",
   "metadata": {},
   "source": [
    "В данных нет пропущенных значений"
   ]
  },
  {
   "cell_type": "code",
   "execution_count": 258,
   "metadata": {},
   "outputs": [
    {
     "name": "stdout",
     "output_type": "stream",
     "text": [
      "labels\n",
      "O        887908\n",
      "B-geo     37644\n",
      "B-tim     20333\n",
      "B-org     20143\n",
      "I-per     17251\n",
      "B-per     16990\n",
      "I-org     16784\n",
      "B-gpe     15870\n",
      "I-geo      7414\n",
      "I-tim      6528\n",
      "B-art       402\n",
      "B-eve       308\n",
      "I-art       297\n",
      "I-eve       253\n",
      "B-nat       201\n",
      "I-gpe       198\n",
      "I-nat        51\n",
      "Name: count, dtype: int64\n"
     ]
    }
   ],
   "source": [
    "label_counts = df['labels'].apply(lambda x: x.split()).explode().value_counts()\n",
    "print(label_counts)"
   ]
  },
  {
   "cell_type": "code",
   "execution_count": 259,
   "metadata": {},
   "outputs": [
    {
     "name": "stderr",
     "output_type": "stream",
     "text": [
      "C:\\Users\\admin\\AppData\\Local\\Temp\\ipykernel_20280\\2419533347.py:2: FutureWarning: \n",
      "\n",
      "Passing `palette` without assigning `hue` is deprecated and will be removed in v0.14.0. Assign the `x` variable to `hue` and set `legend=False` for the same effect.\n",
      "\n",
      "  sns.barplot(x=label_counts.index, y=label_counts.values, palette='viridis')\n"
     ]
    },
    {
     "data": {
      "image/png": "[encoded data removed]",
      "text/plain": [
       "<Figure size 1200x600 with 1 Axes>"
      ]
     },
     "metadata": {},
     "output_type": "display_data"
    }
   ],
   "source": [
    "plt.figure(figsize=(12, 6))\n",
    "sns.barplot(x=label_counts.index, y=label_counts.values, palette='viridis')\n",
    "plt.title(\"Распределение именованных объектов\")\n",
    "plt.xlabel(\"Объект\")\n",
    "plt.ylabel(\"Количество\")\n",
    "plt.show()"
   ]
  },
  {
   "cell_type": "markdown",
   "metadata": {},
   "source": [
    "Метка \"O\" значительно преобладает, что может указывать на то, что большая часть текста не содержит сущностей. Исключим O, чтобы посмотреть как распределены именованные объекты"
   ]
  },
  {
   "cell_type": "code",
   "execution_count": 260,
   "metadata": {},
   "outputs": [
    {
     "name": "stderr",
     "output_type": "stream",
     "text": [
      "C:\\Users\\admin\\AppData\\Local\\Temp\\ipykernel_20280\\873875769.py:5: FutureWarning: \n",
      "\n",
      "Passing `palette` without assigning `hue` is deprecated and will be removed in v0.14.0. Assign the `x` variable to `hue` and set `legend=False` for the same effect.\n",
      "\n",
      "  sns.barplot(x=entity_counts.index, y=entity_counts.values, palette='viridis')\n"
     ]
    },
    {
     "data": {
      "image/png": "[encoded data removed]",
      "text/plain": [
       "<Figure size 1200x600 with 1 Axes>"
      ]
     },
     "metadata": {},
     "output_type": "display_data"
    }
   ],
   "source": [
    "entity_counts = df['labels'].apply(lambda x: x.split()).explode().value_counts()\n",
    "entity_counts = entity_counts[entity_counts.index != 'O']\n",
    "\n",
    "plt.figure(figsize=(12, 6))\n",
    "sns.barplot(x=entity_counts.index, y=entity_counts.values, palette='viridis')\n",
    "plt.title(\"Распределение именованных объектов (за исключением O)\")\n",
    "plt.xlabel(\"Объект\")\n",
    "plt.ylabel(\"Количество\")\n",
    "plt.show()"
   ]
  },
  {
   "cell_type": "markdown",
   "metadata": {},
   "source": [
    "В данных присутствует множество различных меток, что говорит о разнообразности текста.\n",
    "В тексте большое преобладают упоминания для Geographical Entity, Organization, Person, Geopolitical Entity, Time indicator, тогда как  Artifact, Event, Natural Phenomenon встречаются реже."
   ]
  },
  {
   "cell_type": "code",
   "execution_count": 261,
   "metadata": {},
   "outputs": [
    {
     "data": {
      "image/png": "[encoded data removed]",
      "text/plain": [
       "<Figure size 1200x600 with 1 Axes>"
      ]
     },
     "metadata": {},
     "output_type": "display_data"
    }
   ],
   "source": [
    "text_lengths = df['text'].apply(lambda x: len(x.split()))\n",
    "\n",
    "plt.figure(figsize=(12, 6))\n",
    "sns.histplot(text_lengths, bins=50, kde=True)\n",
    "\n",
    "median_length = text_lengths.median()\n",
    "mean_length = text_lengths.mean()\n",
    "\n",
    "plt.axvline(median_length, color='red', linestyle='--', label=f'Median: {median_length:.2f}')\n",
    "plt.axvline(mean_length, color='green', linestyle='--', label=f'Mean: {mean_length:.2f}')\n",
    "\n",
    "plt.title(\"Распределение длин текста\", fontsize=16)\n",
    "plt.xlabel(\"Длина текста (количество слов)\", fontsize=14)\n",
    "plt.ylabel(\"Частота\", fontsize=14)\n",
    "\n",
    "plt.legend()\n",
    "\n",
    "plt.show()"
   ]
  },
  {
   "cell_type": "code",
   "execution_count": 262,
   "metadata": {},
   "outputs": [
    {
     "data": {
      "text/plain": [
       "104"
      ]
     },
     "execution_count": 262,
     "metadata": {},
     "output_type": "execute_result"
    }
   ],
   "source": [
    "MAX_SENTENCE = text_lengths.max()\n",
    "MAX_SENTENCE"
   ]
  },
  {
   "cell_type": "code",
   "execution_count": 263,
   "metadata": {},
   "outputs": [
    {
     "data": {
      "text/plain": [
       "1"
      ]
     },
     "execution_count": 263,
     "metadata": {},
     "output_type": "execute_result"
    }
   ],
   "source": [
    "text_lengths.min()"
   ]
  },
  {
   "cell_type": "markdown",
   "metadata": {},
   "source": [
    "Среднее предложение в наборе данных содержит 21 слово, тогда как самое короткое состоит из одного слова, а самое длинное из 104 слов."
   ]
  },
  {
   "cell_type": "markdown",
   "metadata": {},
   "source": [
    "### Data Preparation and Cleaning"
   ]
  },
  {
   "cell_type": "code",
   "execution_count": 264,
   "metadata": {},
   "outputs": [
    {
     "data": {
      "text/plain": [
       "349"
      ]
     },
     "execution_count": 264,
     "metadata": {},
     "output_type": "execute_result"
    }
   ],
   "source": [
    "df.duplicated().sum()"
   ]
  },
  {
   "cell_type": "markdown",
   "metadata": {},
   "source": [
    "В данных есть повторения, удалим их"
   ]
  },
  {
   "cell_type": "code",
   "execution_count": 265,
   "metadata": {},
   "outputs": [
    {
     "name": "stdout",
     "output_type": "stream",
     "text": [
      "0\n"
     ]
    },
    {
     "data": {
      "text/html": [
       "<div>\n",
       "<style scoped>\n",
       "    .dataframe tbody tr th:only-of-type {\n",
       "        vertical-align: middle;\n",
       "    }\n",
       "\n",
       "    .dataframe tbody tr th {\n",
       "        vertical-align: top;\n",
       "    }\n",
       "\n",
       "    .dataframe thead th {\n",
       "        text-align: right;\n",
       "    }\n",
       "</style>\n",
       "<table border=\"1\" class=\"dataframe\">\n",
       "  <thead>\n",
       "    <tr style=\"text-align: right;\">\n",
       "      <th></th>\n",
       "      <th>text</th>\n",
       "      <th>labels</th>\n",
       "    </tr>\n",
       "  </thead>\n",
       "  <tbody>\n",
       "    <tr>\n",
       "      <th>0</th>\n",
       "      <td>Thousands of demonstrators have marched throug...</td>\n",
       "      <td>O O O O O O B-geo O O O O O B-geo O O O O O B-...</td>\n",
       "    </tr>\n",
       "    <tr>\n",
       "      <th>1</th>\n",
       "      <td>Iranian officials say they expect to get acces...</td>\n",
       "      <td>B-gpe O O O O O O O O O O O O O O B-tim O O O ...</td>\n",
       "    </tr>\n",
       "    <tr>\n",
       "      <th>2</th>\n",
       "      <td>Helicopter gunships Saturday pounded militant ...</td>\n",
       "      <td>O O B-tim O O O O O B-geo O O O O O B-org O O ...</td>\n",
       "    </tr>\n",
       "    <tr>\n",
       "      <th>3</th>\n",
       "      <td>They left after a tense hour-long standoff wit...</td>\n",
       "      <td>O O O O O O O O O O O</td>\n",
       "    </tr>\n",
       "    <tr>\n",
       "      <th>4</th>\n",
       "      <td>U.N. relief coordinator Jan Egeland said Sunda...</td>\n",
       "      <td>B-geo O O B-per I-per O B-tim O B-geo O B-gpe ...</td>\n",
       "    </tr>\n",
       "    <tr>\n",
       "      <th>...</th>\n",
       "      <td>...</td>\n",
       "      <td>...</td>\n",
       "    </tr>\n",
       "    <tr>\n",
       "      <th>47954</th>\n",
       "      <td>Opposition leader Mir Hossein Mousavi has said...</td>\n",
       "      <td>O O O B-per I-per O O O O O O O O O O O O O O ...</td>\n",
       "    </tr>\n",
       "    <tr>\n",
       "      <th>47955</th>\n",
       "      <td>On Thursday , Iranian state media published a ...</td>\n",
       "      <td>O B-tim O B-gpe O O O O O O O O B-org I-org O ...</td>\n",
       "    </tr>\n",
       "    <tr>\n",
       "      <th>47956</th>\n",
       "      <td>Following Iran 's disputed June 12 elections ,...</td>\n",
       "      <td>O B-geo O O B-tim I-tim O O O O O O O O O O O ...</td>\n",
       "    </tr>\n",
       "    <tr>\n",
       "      <th>47957</th>\n",
       "      <td>Since then , authorities have held public tria...</td>\n",
       "      <td>O O O O O O O O O O O O O O O O O O O O O</td>\n",
       "    </tr>\n",
       "    <tr>\n",
       "      <th>47958</th>\n",
       "      <td>The United Nations is praising the use of mili...</td>\n",
       "      <td>O B-org I-org O O O O O O O O O O O O O O B-ti...</td>\n",
       "    </tr>\n",
       "  </tbody>\n",
       "</table>\n",
       "<p>47610 rows × 2 columns</p>\n",
       "</div>"
      ],
      "text/plain": [
       "                                                    text  \\\n",
       "0      Thousands of demonstrators have marched throug...   \n",
       "1      Iranian officials say they expect to get acces...   \n",
       "2      Helicopter gunships Saturday pounded militant ...   \n",
       "3      They left after a tense hour-long standoff wit...   \n",
       "4      U.N. relief coordinator Jan Egeland said Sunda...   \n",
       "...                                                  ...   \n",
       "47954  Opposition leader Mir Hossein Mousavi has said...   \n",
       "47955  On Thursday , Iranian state media published a ...   \n",
       "47956  Following Iran 's disputed June 12 elections ,...   \n",
       "47957  Since then , authorities have held public tria...   \n",
       "47958  The United Nations is praising the use of mili...   \n",
       "\n",
       "                                                  labels  \n",
       "0      O O O O O O B-geo O O O O O B-geo O O O O O B-...  \n",
       "1      B-gpe O O O O O O O O O O O O O O B-tim O O O ...  \n",
       "2      O O B-tim O O O O O B-geo O O O O O B-org O O ...  \n",
       "3                                  O O O O O O O O O O O  \n",
       "4      B-geo O O B-per I-per O B-tim O B-geo O B-gpe ...  \n",
       "...                                                  ...  \n",
       "47954  O O O B-per I-per O O O O O O O O O O O O O O ...  \n",
       "47955  O B-tim O B-gpe O O O O O O O O B-org I-org O ...  \n",
       "47956  O B-geo O O B-tim I-tim O O O O O O O O O O O ...  \n",
       "47957          O O O O O O O O O O O O O O O O O O O O O  \n",
       "47958  O B-org I-org O O O O O O O O O O O O O O B-ti...  \n",
       "\n",
       "[47610 rows x 2 columns]"
      ]
     },
     "execution_count": 265,
     "metadata": {},
     "output_type": "execute_result"
    }
   ],
   "source": [
    "df = df.drop_duplicates().copy()\n",
    "print(df.duplicated().sum())\n",
    "df"
   ]
  },
  {
   "cell_type": "code",
   "execution_count": 266,
   "metadata": {},
   "outputs": [],
   "source": [
    "def clean_text(text):\n",
    "\n",
    "    # Приведение к нижнему регистру\n",
    "    text = text.lower()\n",
    "\n",
    "    # Удаление стоп-слов\n",
    "    stop_words = set(stopwords.words('english'))\n",
    "    \n",
    "    text = ' '.join([word for word in text.split() if word not in stop_words])\n",
    "    \n",
    "    return text\n",
    "\n",
    "df['clean_text'] = df['text'].apply(clean_text)"
   ]
  },
  {
   "cell_type": "code",
   "execution_count": 267,
   "metadata": {},
   "outputs": [
    {
     "data": {
      "text/html": [
       "<div>\n",
       "<style scoped>\n",
       "    .dataframe tbody tr th:only-of-type {\n",
       "        vertical-align: middle;\n",
       "    }\n",
       "\n",
       "    .dataframe tbody tr th {\n",
       "        vertical-align: top;\n",
       "    }\n",
       "\n",
       "    .dataframe thead th {\n",
       "        text-align: right;\n",
       "    }\n",
       "</style>\n",
       "<table border=\"1\" class=\"dataframe\">\n",
       "  <thead>\n",
       "    <tr style=\"text-align: right;\">\n",
       "      <th></th>\n",
       "      <th>text</th>\n",
       "      <th>labels</th>\n",
       "      <th>clean_text</th>\n",
       "    </tr>\n",
       "  </thead>\n",
       "  <tbody>\n",
       "    <tr>\n",
       "      <th>0</th>\n",
       "      <td>Thousands of demonstrators have marched throug...</td>\n",
       "      <td>O O O O O O B-geo O O O O O B-geo O O O O O B-...</td>\n",
       "      <td>thousands demonstrators marched london protest...</td>\n",
       "    </tr>\n",
       "    <tr>\n",
       "      <th>1</th>\n",
       "      <td>Iranian officials say they expect to get acces...</td>\n",
       "      <td>B-gpe O O O O O O O O O O O O O O B-tim O O O ...</td>\n",
       "      <td>iranian officials say expect get access sealed...</td>\n",
       "    </tr>\n",
       "    <tr>\n",
       "      <th>2</th>\n",
       "      <td>Helicopter gunships Saturday pounded militant ...</td>\n",
       "      <td>O O B-tim O O O O O B-geo O O O O O B-org O O ...</td>\n",
       "      <td>helicopter gunships saturday pounded militant ...</td>\n",
       "    </tr>\n",
       "    <tr>\n",
       "      <th>3</th>\n",
       "      <td>They left after a tense hour-long standoff wit...</td>\n",
       "      <td>O O O O O O O O O O O</td>\n",
       "      <td>left tense hour-long standoff riot police .</td>\n",
       "    </tr>\n",
       "    <tr>\n",
       "      <th>4</th>\n",
       "      <td>U.N. relief coordinator Jan Egeland said Sunda...</td>\n",
       "      <td>B-geo O O B-per I-per O B-tim O B-geo O B-gpe ...</td>\n",
       "      <td>u.n. relief coordinator jan egeland said sunda...</td>\n",
       "    </tr>\n",
       "    <tr>\n",
       "      <th>...</th>\n",
       "      <td>...</td>\n",
       "      <td>...</td>\n",
       "      <td>...</td>\n",
       "    </tr>\n",
       "    <tr>\n",
       "      <th>47954</th>\n",
       "      <td>Opposition leader Mir Hossein Mousavi has said...</td>\n",
       "      <td>O O O B-per I-per O O O O O O O O O O O O O O ...</td>\n",
       "      <td>opposition leader mir hossein mousavi said pla...</td>\n",
       "    </tr>\n",
       "    <tr>\n",
       "      <th>47955</th>\n",
       "      <td>On Thursday , Iranian state media published a ...</td>\n",
       "      <td>O B-tim O B-gpe O O O O O O O O B-org I-org O ...</td>\n",
       "      <td>thursday , iranian state media published messa...</td>\n",
       "    </tr>\n",
       "    <tr>\n",
       "      <th>47956</th>\n",
       "      <td>Following Iran 's disputed June 12 elections ,...</td>\n",
       "      <td>O B-geo O O B-tim I-tim O O O O O O O O O O O ...</td>\n",
       "      <td>following iran 's disputed june 12 elections ,...</td>\n",
       "    </tr>\n",
       "    <tr>\n",
       "      <th>47957</th>\n",
       "      <td>Since then , authorities have held public tria...</td>\n",
       "      <td>O O O O O O O O O O O O O O O O O O O O O</td>\n",
       "      <td>since , authorities held public trials accused...</td>\n",
       "    </tr>\n",
       "    <tr>\n",
       "      <th>47958</th>\n",
       "      <td>The United Nations is praising the use of mili...</td>\n",
       "      <td>O B-org I-org O O O O O O O O O O O O O O B-ti...</td>\n",
       "      <td>united nations praising use military helicopte...</td>\n",
       "    </tr>\n",
       "  </tbody>\n",
       "</table>\n",
       "<p>47610 rows × 3 columns</p>\n",
       "</div>"
      ],
      "text/plain": [
       "                                                    text  \\\n",
       "0      Thousands of demonstrators have marched throug...   \n",
       "1      Iranian officials say they expect to get acces...   \n",
       "2      Helicopter gunships Saturday pounded militant ...   \n",
       "3      They left after a tense hour-long standoff wit...   \n",
       "4      U.N. relief coordinator Jan Egeland said Sunda...   \n",
       "...                                                  ...   \n",
       "47954  Opposition leader Mir Hossein Mousavi has said...   \n",
       "47955  On Thursday , Iranian state media published a ...   \n",
       "47956  Following Iran 's disputed June 12 elections ,...   \n",
       "47957  Since then , authorities have held public tria...   \n",
       "47958  The United Nations is praising the use of mili...   \n",
       "\n",
       "                                                  labels  \\\n",
       "0      O O O O O O B-geo O O O O O B-geo O O O O O B-...   \n",
       "1      B-gpe O O O O O O O O O O O O O O B-tim O O O ...   \n",
       "2      O O B-tim O O O O O B-geo O O O O O B-org O O ...   \n",
       "3                                  O O O O O O O O O O O   \n",
       "4      B-geo O O B-per I-per O B-tim O B-geo O B-gpe ...   \n",
       "...                                                  ...   \n",
       "47954  O O O B-per I-per O O O O O O O O O O O O O O ...   \n",
       "47955  O B-tim O B-gpe O O O O O O O O B-org I-org O ...   \n",
       "47956  O B-geo O O B-tim I-tim O O O O O O O O O O O ...   \n",
       "47957          O O O O O O O O O O O O O O O O O O O O O   \n",
       "47958  O B-org I-org O O O O O O O O O O O O O O B-ti...   \n",
       "\n",
       "                                              clean_text  \n",
       "0      thousands demonstrators marched london protest...  \n",
       "1      iranian officials say expect get access sealed...  \n",
       "2      helicopter gunships saturday pounded militant ...  \n",
       "3            left tense hour-long standoff riot police .  \n",
       "4      u.n. relief coordinator jan egeland said sunda...  \n",
       "...                                                  ...  \n",
       "47954  opposition leader mir hossein mousavi said pla...  \n",
       "47955  thursday , iranian state media published messa...  \n",
       "47956  following iran 's disputed june 12 elections ,...  \n",
       "47957  since , authorities held public trials accused...  \n",
       "47958  united nations praising use military helicopte...  \n",
       "\n",
       "[47610 rows x 3 columns]"
      ]
     },
     "execution_count": 267,
     "metadata": {},
     "output_type": "execute_result"
    }
   ],
   "source": [
    "df"
   ]
  },
  {
   "cell_type": "markdown",
   "metadata": {},
   "source": [
    "### Токенезация"
   ]
  },
  {
   "cell_type": "code",
   "execution_count": 268,
   "metadata": {},
   "outputs": [],
   "source": [
    "df['text_tokens'] = df['text'].apply(lambda x: x.split())\n",
    "df['clean_text_tokens'] = df['clean_text'].apply(lambda x: x.split())\n",
    "df['label_tokens'] = df['labels'].apply(lambda x: x.split())"
   ]
  },
  {
   "cell_type": "code",
   "execution_count": 269,
   "metadata": {},
   "outputs": [
    {
     "name": "stdout",
     "output_type": "stream",
     "text": [
      "Проверка выравнивания: False\n"
     ]
    }
   ],
   "source": [
    "alignment_check = df.apply(lambda row: len(row['text_tokens']) == len(row['label_tokens']), axis=1)\n",
    "print(\"Проверка выравнивания:\", alignment_check.all())"
   ]
  },
  {
   "cell_type": "code",
   "execution_count": 270,
   "metadata": {},
   "outputs": [
    {
     "name": "stdout",
     "output_type": "stream",
     "text": [
      "Проверка выравнивания: True\n"
     ]
    }
   ],
   "source": [
    "alignment_issues = df[df.apply(lambda row: len(row['text_tokens']) != len(row['label_tokens']), axis=1)].copy()\n",
    "df = df.drop(alignment_issues.index)\n",
    "df.reset_index(drop=True, inplace=True)\n",
    "\n",
    "alignment_check = df.apply(lambda row: len(row['text_tokens']) == len(row['label_tokens']), axis=1)\n",
    "print(\"Проверка выравнивания:\", alignment_check.all())"
   ]
  },
  {
   "cell_type": "code",
   "execution_count": 271,
   "metadata": {},
   "outputs": [
    {
     "name": "stdout",
     "output_type": "stream",
     "text": [
      "Проверка выравнивания: False\n"
     ]
    }
   ],
   "source": [
    "alignment_check = df.apply(lambda row: len(row['clean_text_tokens']) == len(row['label_tokens']), axis=1)\n",
    "print(\"Проверка выравнивания:\", alignment_check.all())"
   ]
  },
  {
   "cell_type": "code",
   "execution_count": 272,
   "metadata": {},
   "outputs": [
    {
     "name": "stdout",
     "output_type": "stream",
     "text": [
      "Проверка выравнивания: True\n"
     ]
    }
   ],
   "source": [
    "alignment_issues = df[df.apply(lambda row: len(row['clean_text_tokens']) != len(row['label_tokens']), axis=1)].copy()\n",
    "df = df.drop(alignment_issues.index)\n",
    "df.reset_index(drop=True, inplace=True)\n",
    "\n",
    "alignment_check = df.apply(lambda row: len(row['clean_text_tokens']) == len(row['label_tokens']), axis=1)\n",
    "print(\"Проверка выравнивания:\", alignment_check.all())"
   ]
  },
  {
   "cell_type": "code",
   "execution_count": 273,
   "metadata": {},
   "outputs": [],
   "source": [
    "df.to_csv('data.csv', index=False)"
   ]
  },
  {
   "cell_type": "markdown",
   "metadata": {},
   "source": [
    "# Neural Networks"
   ]
  },
  {
   "cell_type": "code",
   "execution_count": 274,
   "metadata": {},
   "outputs": [],
   "source": [
    "df = pd.read_csv('data.csv')"
   ]
  },
  {
   "cell_type": "code",
   "execution_count": 275,
   "metadata": {},
   "outputs": [
    {
     "data": {
      "text/html": [
       "<div>\n",
       "<style scoped>\n",
       "    .dataframe tbody tr th:only-of-type {\n",
       "        vertical-align: middle;\n",
       "    }\n",
       "\n",
       "    .dataframe tbody tr th {\n",
       "        vertical-align: top;\n",
       "    }\n",
       "\n",
       "    .dataframe thead th {\n",
       "        text-align: right;\n",
       "    }\n",
       "</style>\n",
       "<table border=\"1\" class=\"dataframe\">\n",
       "  <thead>\n",
       "    <tr style=\"text-align: right;\">\n",
       "      <th></th>\n",
       "      <th>text</th>\n",
       "      <th>labels</th>\n",
       "      <th>clean_text</th>\n",
       "      <th>text_tokens</th>\n",
       "      <th>clean_text_tokens</th>\n",
       "      <th>label_tokens</th>\n",
       "    </tr>\n",
       "  </thead>\n",
       "  <tbody>\n",
       "    <tr>\n",
       "      <th>0</th>\n",
       "      <td>Brian Allen narrates .</td>\n",
       "      <td>B-per I-per O O</td>\n",
       "      <td>brian allen narrates .</td>\n",
       "      <td>['Brian', 'Allen', 'narrates', '.']</td>\n",
       "      <td>['brian', 'allen', 'narrates', '.']</td>\n",
       "      <td>['B-per', 'I-per', 'O', 'O']</td>\n",
       "    </tr>\n",
       "    <tr>\n",
       "      <th>1</th>\n",
       "      <td>VOA 's Alex Villarreal reports .</td>\n",
       "      <td>B-org O B-per I-per O O</td>\n",
       "      <td>voa 's alex villarreal reports .</td>\n",
       "      <td>['VOA', \"'s\", 'Alex', 'Villarreal', 'reports',...</td>\n",
       "      <td>['voa', \"'s\", 'alex', 'villarreal', 'reports',...</td>\n",
       "      <td>['B-org', 'O', 'B-per', 'I-per', 'O', 'O']</td>\n",
       "    </tr>\n",
       "    <tr>\n",
       "      <th>2</th>\n",
       "      <td>VOA 's Carol Pearson reports .</td>\n",
       "      <td>B-org O B-per I-per O O</td>\n",
       "      <td>voa 's carol pearson reports .</td>\n",
       "      <td>['VOA', \"'s\", 'Carol', 'Pearson', 'reports', '.']</td>\n",
       "      <td>['voa', \"'s\", 'carol', 'pearson', 'reports', '.']</td>\n",
       "      <td>['B-org', 'O', 'B-per', 'I-per', 'O', 'O']</td>\n",
       "    </tr>\n",
       "    <tr>\n",
       "      <th>3</th>\n",
       "      <td>VOA 's Mandy Clark reports .</td>\n",
       "      <td>B-org O B-per I-per O O</td>\n",
       "      <td>voa 's mandy clark reports .</td>\n",
       "      <td>['VOA', \"'s\", 'Mandy', 'Clark', 'reports', '.']</td>\n",
       "      <td>['voa', \"'s\", 'mandy', 'clark', 'reports', '.']</td>\n",
       "      <td>['B-org', 'O', 'B-per', 'I-per', 'O', 'O']</td>\n",
       "    </tr>\n",
       "    <tr>\n",
       "      <th>4</th>\n",
       "      <td>Paul Sisco reports .</td>\n",
       "      <td>B-per I-per O O</td>\n",
       "      <td>paul sisco reports .</td>\n",
       "      <td>['Paul', 'Sisco', 'reports', '.']</td>\n",
       "      <td>['paul', 'sisco', 'reports', '.']</td>\n",
       "      <td>['B-per', 'I-per', 'O', 'O']</td>\n",
       "    </tr>\n",
       "    <tr>\n",
       "      <th>...</th>\n",
       "      <td>...</td>\n",
       "      <td>...</td>\n",
       "      <td>...</td>\n",
       "      <td>...</td>\n",
       "      <td>...</td>\n",
       "      <td>...</td>\n",
       "    </tr>\n",
       "    <tr>\n",
       "      <th>95</th>\n",
       "      <td>Winds reached well past 200 kilometers per hour .</td>\n",
       "      <td>O O O O O O O O O</td>\n",
       "      <td>winds reached well past 200 kilometers per hour .</td>\n",
       "      <td>['Winds', 'reached', 'well', 'past', '200', 'k...</td>\n",
       "      <td>['winds', 'reached', 'well', 'past', '200', 'k...</td>\n",
       "      <td>['O', 'O', 'O', 'O', 'O', 'O', 'O', 'O', 'O']</td>\n",
       "    </tr>\n",
       "    <tr>\n",
       "      <th>96</th>\n",
       "      <td>One victim remains unidentified .</td>\n",
       "      <td>O O O O O</td>\n",
       "      <td>one victim remains unidentified .</td>\n",
       "      <td>['One', 'victim', 'remains', 'unidentified', '.']</td>\n",
       "      <td>['one', 'victim', 'remains', 'unidentified', '.']</td>\n",
       "      <td>['O', 'O', 'O', 'O', 'O']</td>\n",
       "    </tr>\n",
       "    <tr>\n",
       "      <th>97</th>\n",
       "      <td>VOA 's Nathan King reports .</td>\n",
       "      <td>B-org O B-per I-per O O</td>\n",
       "      <td>voa 's nathan king reports .</td>\n",
       "      <td>['VOA', \"'s\", 'Nathan', 'King', 'reports', '.']</td>\n",
       "      <td>['voa', \"'s\", 'nathan', 'king', 'reports', '.']</td>\n",
       "      <td>['B-org', 'O', 'B-per', 'I-per', 'O', 'O']</td>\n",
       "    </tr>\n",
       "    <tr>\n",
       "      <th>98</th>\n",
       "      <td>Leatherback turtles fascinate ocean researchers .</td>\n",
       "      <td>O O O O O O</td>\n",
       "      <td>leatherback turtles fascinate ocean researchers .</td>\n",
       "      <td>['Leatherback', 'turtles', 'fascinate', 'ocean...</td>\n",
       "      <td>['leatherback', 'turtles', 'fascinate', 'ocean...</td>\n",
       "      <td>['O', 'O', 'O', 'O', 'O', 'O']</td>\n",
       "    </tr>\n",
       "    <tr>\n",
       "      <th>99</th>\n",
       "      <td>Mr. Bush arrives late Sunday .</td>\n",
       "      <td>B-per I-per O O B-tim O</td>\n",
       "      <td>mr. bush arrives late sunday .</td>\n",
       "      <td>['Mr.', 'Bush', 'arrives', 'late', 'Sunday', '.']</td>\n",
       "      <td>['mr.', 'bush', 'arrives', 'late', 'sunday', '.']</td>\n",
       "      <td>['B-per', 'I-per', 'O', 'O', 'B-tim', 'O']</td>\n",
       "    </tr>\n",
       "  </tbody>\n",
       "</table>\n",
       "<p>100 rows × 6 columns</p>\n",
       "</div>"
      ],
      "text/plain": [
       "                                                 text  \\\n",
       "0                              Brian Allen narrates .   \n",
       "1                    VOA 's Alex Villarreal reports .   \n",
       "2                      VOA 's Carol Pearson reports .   \n",
       "3                        VOA 's Mandy Clark reports .   \n",
       "4                                Paul Sisco reports .   \n",
       "..                                                ...   \n",
       "95  Winds reached well past 200 kilometers per hour .   \n",
       "96                  One victim remains unidentified .   \n",
       "97                       VOA 's Nathan King reports .   \n",
       "98  Leatherback turtles fascinate ocean researchers .   \n",
       "99                     Mr. Bush arrives late Sunday .   \n",
       "\n",
       "                     labels  \\\n",
       "0           B-per I-per O O   \n",
       "1   B-org O B-per I-per O O   \n",
       "2   B-org O B-per I-per O O   \n",
       "3   B-org O B-per I-per O O   \n",
       "4           B-per I-per O O   \n",
       "..                      ...   \n",
       "95        O O O O O O O O O   \n",
       "96                O O O O O   \n",
       "97  B-org O B-per I-per O O   \n",
       "98              O O O O O O   \n",
       "99  B-per I-per O O B-tim O   \n",
       "\n",
       "                                           clean_text  \\\n",
       "0                              brian allen narrates .   \n",
       "1                    voa 's alex villarreal reports .   \n",
       "2                      voa 's carol pearson reports .   \n",
       "3                        voa 's mandy clark reports .   \n",
       "4                                paul sisco reports .   \n",
       "..                                                ...   \n",
       "95  winds reached well past 200 kilometers per hour .   \n",
       "96                  one victim remains unidentified .   \n",
       "97                       voa 's nathan king reports .   \n",
       "98  leatherback turtles fascinate ocean researchers .   \n",
       "99                     mr. bush arrives late sunday .   \n",
       "\n",
       "                                          text_tokens  \\\n",
       "0                 ['Brian', 'Allen', 'narrates', '.']   \n",
       "1   ['VOA', \"'s\", 'Alex', 'Villarreal', 'reports',...   \n",
       "2   ['VOA', \"'s\", 'Carol', 'Pearson', 'reports', '.']   \n",
       "3     ['VOA', \"'s\", 'Mandy', 'Clark', 'reports', '.']   \n",
       "4                   ['Paul', 'Sisco', 'reports', '.']   \n",
       "..                                                ...   \n",
       "95  ['Winds', 'reached', 'well', 'past', '200', 'k...   \n",
       "96  ['One', 'victim', 'remains', 'unidentified', '.']   \n",
       "97    ['VOA', \"'s\", 'Nathan', 'King', 'reports', '.']   \n",
       "98  ['Leatherback', 'turtles', 'fascinate', 'ocean...   \n",
       "99  ['Mr.', 'Bush', 'arrives', 'late', 'Sunday', '.']   \n",
       "\n",
       "                                    clean_text_tokens  \\\n",
       "0                 ['brian', 'allen', 'narrates', '.']   \n",
       "1   ['voa', \"'s\", 'alex', 'villarreal', 'reports',...   \n",
       "2   ['voa', \"'s\", 'carol', 'pearson', 'reports', '.']   \n",
       "3     ['voa', \"'s\", 'mandy', 'clark', 'reports', '.']   \n",
       "4                   ['paul', 'sisco', 'reports', '.']   \n",
       "..                                                ...   \n",
       "95  ['winds', 'reached', 'well', 'past', '200', 'k...   \n",
       "96  ['one', 'victim', 'remains', 'unidentified', '.']   \n",
       "97    ['voa', \"'s\", 'nathan', 'king', 'reports', '.']   \n",
       "98  ['leatherback', 'turtles', 'fascinate', 'ocean...   \n",
       "99  ['mr.', 'bush', 'arrives', 'late', 'sunday', '.']   \n",
       "\n",
       "                                     label_tokens  \n",
       "0                    ['B-per', 'I-per', 'O', 'O']  \n",
       "1      ['B-org', 'O', 'B-per', 'I-per', 'O', 'O']  \n",
       "2      ['B-org', 'O', 'B-per', 'I-per', 'O', 'O']  \n",
       "3      ['B-org', 'O', 'B-per', 'I-per', 'O', 'O']  \n",
       "4                    ['B-per', 'I-per', 'O', 'O']  \n",
       "..                                            ...  \n",
       "95  ['O', 'O', 'O', 'O', 'O', 'O', 'O', 'O', 'O']  \n",
       "96                      ['O', 'O', 'O', 'O', 'O']  \n",
       "97     ['B-org', 'O', 'B-per', 'I-per', 'O', 'O']  \n",
       "98                 ['O', 'O', 'O', 'O', 'O', 'O']  \n",
       "99     ['B-per', 'I-per', 'O', 'O', 'B-tim', 'O']  \n",
       "\n",
       "[100 rows x 6 columns]"
      ]
     },
     "execution_count": 275,
     "metadata": {},
     "output_type": "execute_result"
    }
   ],
   "source": [
    "df"
   ]
  },
  {
   "cell_type": "code",
   "execution_count": 276,
   "metadata": {},
   "outputs": [
    {
     "data": {
      "text/html": [
       "<div>\n",
       "<style scoped>\n",
       "    .dataframe tbody tr th:only-of-type {\n",
       "        vertical-align: middle;\n",
       "    }\n",
       "\n",
       "    .dataframe tbody tr th {\n",
       "        vertical-align: top;\n",
       "    }\n",
       "\n",
       "    .dataframe thead th {\n",
       "        text-align: right;\n",
       "    }\n",
       "</style>\n",
       "<table border=\"1\" class=\"dataframe\">\n",
       "  <thead>\n",
       "    <tr style=\"text-align: right;\">\n",
       "      <th></th>\n",
       "      <th>Sentence #</th>\n",
       "      <th>Word</th>\n",
       "      <th>Tag</th>\n",
       "    </tr>\n",
       "  </thead>\n",
       "  <tbody>\n",
       "    <tr>\n",
       "      <th>0</th>\n",
       "      <td>Sentence: 0</td>\n",
       "      <td>brian</td>\n",
       "      <td>B-per</td>\n",
       "    </tr>\n",
       "    <tr>\n",
       "      <th>1</th>\n",
       "      <td>Sentence: 0</td>\n",
       "      <td>allen</td>\n",
       "      <td>I-per</td>\n",
       "    </tr>\n",
       "    <tr>\n",
       "      <th>2</th>\n",
       "      <td>Sentence: 0</td>\n",
       "      <td>narrates</td>\n",
       "      <td>O</td>\n",
       "    </tr>\n",
       "    <tr>\n",
       "      <th>3</th>\n",
       "      <td>Sentence: 0</td>\n",
       "      <td>.</td>\n",
       "      <td>O</td>\n",
       "    </tr>\n",
       "    <tr>\n",
       "      <th>4</th>\n",
       "      <td>Sentence: 0</td>\n",
       "      <td>voa</td>\n",
       "      <td>B-org</td>\n",
       "    </tr>\n",
       "    <tr>\n",
       "      <th>...</th>\n",
       "      <td>...</td>\n",
       "      <td>...</td>\n",
       "      <td>...</td>\n",
       "    </tr>\n",
       "    <tr>\n",
       "      <th>632</th>\n",
       "      <td>Sentence: 1</td>\n",
       "      <td>bush</td>\n",
       "      <td>I-per</td>\n",
       "    </tr>\n",
       "    <tr>\n",
       "      <th>633</th>\n",
       "      <td>Sentence: 1</td>\n",
       "      <td>arrives</td>\n",
       "      <td>O</td>\n",
       "    </tr>\n",
       "    <tr>\n",
       "      <th>634</th>\n",
       "      <td>Sentence: 1</td>\n",
       "      <td>late</td>\n",
       "      <td>O</td>\n",
       "    </tr>\n",
       "    <tr>\n",
       "      <th>635</th>\n",
       "      <td>Sentence: 1</td>\n",
       "      <td>sunday</td>\n",
       "      <td>B-tim</td>\n",
       "    </tr>\n",
       "    <tr>\n",
       "      <th>636</th>\n",
       "      <td>Sentence: 1</td>\n",
       "      <td>.</td>\n",
       "      <td>O</td>\n",
       "    </tr>\n",
       "  </tbody>\n",
       "</table>\n",
       "<p>637 rows × 3 columns</p>\n",
       "</div>"
      ],
      "text/plain": [
       "      Sentence #      Word    Tag\n",
       "0    Sentence: 0     brian  B-per\n",
       "1    Sentence: 0     allen  I-per\n",
       "2    Sentence: 0  narrates      O\n",
       "3    Sentence: 0         .      O\n",
       "4    Sentence: 0       voa  B-org\n",
       "..           ...       ...    ...\n",
       "632  Sentence: 1      bush  I-per\n",
       "633  Sentence: 1   arrives      O\n",
       "634  Sentence: 1      late      O\n",
       "635  Sentence: 1    sunday  B-tim\n",
       "636  Sentence: 1         .      O\n",
       "\n",
       "[637 rows x 3 columns]"
      ]
     },
     "execution_count": 276,
     "metadata": {},
     "output_type": "execute_result"
    }
   ],
   "source": [
    "def process_row(row):\n",
    "    words, tags, sentences = [], [], []\n",
    "    text_tokens = ast.literal_eval(row['clean_text_tokens'])\n",
    "    label_tokens = ast.literal_eval(row['label_tokens'])\n",
    "    \n",
    "    current_sentence = 0\n",
    "    current_words = []\n",
    "    current_tags = []\n",
    "\n",
    "    for text_token, label_token in zip(text_tokens, label_tokens):\n",
    "        \n",
    "        current_words.append(text_token)\n",
    "        current_tags.append(label_token)\n",
    "\n",
    "       \n",
    "        if text_token.endswith('.'):\n",
    "            \n",
    "            sentences.extend([f\"Sentence: {current_sentence}\"] * len(current_words))\n",
    "            words.extend(current_words)\n",
    "            tags.extend(current_tags)\n",
    "\n",
    "            current_sentence += 1\n",
    "            current_words = []\n",
    "            current_tags = []\n",
    "\n",
    "    if current_words:\n",
    "        sentences.extend([f\"Sentence: {current_sentence}\"] * len(current_words))\n",
    "        words.extend(current_words)\n",
    "        tags.extend(current_tags)\n",
    "\n",
    "    return sentences, words, tags\n",
    "\n",
    "all_sentences = []\n",
    "all_words = []\n",
    "all_tags = []\n",
    "\n",
    "for index, row in df.iterrows():\n",
    "    sentences, words, tags = process_row(row)\n",
    "    all_sentences.extend(sentences)\n",
    "    all_words.extend(words)\n",
    "    all_tags.extend(tags)\n",
    "\n",
    "new_df = pd.DataFrame({\n",
    "    'Sentence #': all_sentences,\n",
    "    'Word': all_words,\n",
    "    'Tag': all_tags\n",
    "})\n",
    "\n",
    "new_df\n"
   ]
  },
  {
   "cell_type": "code",
   "execution_count": 277,
   "metadata": {},
   "outputs": [],
   "source": [
    "class SentenceGetter(object):\n",
    "    def __init__(self, data):\n",
    "        self.n_sent = 1\n",
    "        self.data = data\n",
    "        self.empty = False\n",
    "        \n",
    "        agg_func = lambda s: [(w, t) for w, t in zip(s['Word'].values.tolist(),\n",
    "                                                       s['Tag'].values.tolist())]\n",
    "        self.grouped = self.data.groupby('Sentence #').apply(agg_func)\n",
    "        self.sentences = [s for s in self.grouped]\n",
    "        \n",
    "    def get_next(self):\n",
    "        if self.n_sent <= len(self.sentences):\n",
    "            s = self.sentences[self.n_sent - 1]\n",
    "            self.n_sent += 1\n",
    "            return s\n",
    "        return None\n",
    "    \n",
    "    def has_next(self):\n",
    "        \"\"\"Проверка, есть ли еще предложения для получения.\"\"\"\n",
    "        return self.n_sent <= len(self.sentences)\n"
   ]
  },
  {
   "cell_type": "code",
   "execution_count": 278,
   "metadata": {},
   "outputs": [
    {
     "name": "stderr",
     "output_type": "stream",
     "text": [
      "C:\\Users\\admin\\AppData\\Local\\Temp\\ipykernel_20280\\2520769341.py:9: DeprecationWarning: DataFrameGroupBy.apply operated on the grouping columns. This behavior is deprecated, and in a future version of pandas the grouping columns will be excluded from the operation. Either pass `include_groups=False` to exclude the groupings or explicitly select the grouping columns after groupby to silence this warning.\n",
      "  self.grouped = self.data.groupby('Sentence #').apply(agg_func)\n"
     ]
    }
   ],
   "source": [
    "getter = SentenceGetter(new_df)\n",
    "sentences = getter.sentences"
   ]
  },
  {
   "cell_type": "code",
   "execution_count": 279,
   "metadata": {},
   "outputs": [],
   "source": [
    "def word2features(sent, i):\n",
    "    word = sent[i][0]\n",
    "    label = sent[i][1]\n",
    "    \n",
    "    features = {\n",
    "        'bias': 1.0, \n",
    "        'word.lower()': word.lower(), \n",
    "        'word[-3:]': word[-3:], \n",
    "        'word[-2:]': word[-2:], \n",
    "        'word.isupper()': word.isupper(), \n",
    "        'word.istitle()': word.istitle(), \n",
    "        'word.isdigit()': word.isdigit(),\n",
    "        'label': label,\n",
    "        'word.length': len(word),\n",
    "        'word.vowel.count': sum(1 for char in word.lower() if char in 'aeiou'),\n",
    "        'word.consonant.count': sum(1 for char in word.lower() if char.isalpha() and char not in 'aeiou'),\n",
    "    }\n",
    "\n",
    "    if i > 0:\n",
    "        word1 = sent[i-1][0]\n",
    "        label1 = sent[i-1][1]\n",
    "        features.update({\n",
    "            '-1:word.lower()': word1.lower(),\n",
    "            '-1:word.istitle()': word1.istitle(),\n",
    "            '-1:word.isupper()': word1.isupper(),\n",
    "            '-1:label': label1,\n",
    "            '-1:word.length': len(word1),\n",
    "        })\n",
    "        \n",
    "    if i > 1:\n",
    "        word2 = sent[i-2][0]\n",
    "        features['-2:word.lower()'] = word2.lower()\n",
    "        \n",
    "    if i < len(sent) - 1:\n",
    "        word1 = sent[i + 1][0]\n",
    "        label1 = sent[i + 1][1]\n",
    "        features.update({\n",
    "            '+1:word.lower()': word1.lower(),\n",
    "            '+1:word.istitle()': word1.istitle(),\n",
    "            '+1:word.isupper()': word1.isupper(),\n",
    "            '+1:label': label1,\n",
    "            '+1:word.length': len(word1),\n",
    "        })\n",
    "\n",
    "\n",
    "    if i < len(sent) - 2:\n",
    "        word2 = sent[i + 2][0]\n",
    "        features['+2:word.lower()'] = word2.lower()\n",
    "\n",
    "    if i == 0:\n",
    "        features['BOS'] = True\n",
    "    if i == len(sent) - 1:\n",
    "        features['EOS'] = True\n",
    "\n",
    "    return features\n",
    "\n",
    "def sent2features(sent):\n",
    "    \"\"\"Преобразует предложение в список функций для каждого токена.\"\"\"\n",
    "    return [word2features(sent, i) for i, _ in enumerate(sent)]\n",
    "\n",
    "def sent2labels(sent):\n",
    "    \"\"\"Извлекает метки из предложения.\"\"\"\n",
    "    return [label for _, label in sent]\n",
    "\n",
    "def sent2tokens(sent):\n",
    "    \"\"\"Извлекает токены из предложения.\"\"\"\n",
    "    return [token for token, _ in sent]\n",
    "\n"
   ]
  },
  {
   "cell_type": "code",
   "execution_count": 280,
   "metadata": {},
   "outputs": [],
   "source": [
    "X = [sent2features(s) for s in sentences]\n",
    "y = [sent2labels(s) for s in sentences]"
   ]
  },
  {
   "cell_type": "code",
   "execution_count": 281,
   "metadata": {},
   "outputs": [],
   "source": [
    "X_train, X_test, y_train, y_test = train_test_split(X, y, test_size=0.2, random_state=42)"
   ]
  },
  {
   "cell_type": "code",
   "execution_count": 282,
   "metadata": {},
   "outputs": [
    {
     "name": "stdout",
     "output_type": "stream",
     "text": [
      "Fitting 2 folds for each of 40 candidates, totalling 80 fits\n",
      "Лучшие параметры: {'max_iterations': 200, 'c2': 1, 'c1': 0.5, 'all_possible_transitions': False}\n",
      "Лучший балл: 0.8936170212765957\n",
      "0.6172770705488759\n",
      "              precision    recall  f1-score   support\n",
      "\n",
      "           O       0.75      1.00      0.86       417\n",
      "       B-geo       0.25      0.05      0.08        22\n",
      "       B-tim       0.00      0.00      0.00         7\n",
      "       B-org       0.00      0.00      0.00        25\n",
      "       I-per       0.04      0.02      0.03        45\n",
      "       B-per       0.00      0.00      0.00        55\n",
      "       I-org       0.00      0.00      0.00         3\n",
      "       B-gpe       0.00      0.00      0.00        10\n",
      "       I-geo       0.00      0.00      0.00         0\n",
      "       I-tim       0.00      0.00      0.00         0\n",
      "       B-art       0.00      0.00      0.00         0\n",
      "       B-eve       0.00      0.00      0.00         1\n",
      "       I-art       0.00      0.00      0.00         0\n",
      "       I-eve       0.00      0.00      0.00         0\n",
      "       B-nat       0.00      0.00      0.00         0\n",
      "       I-gpe       0.00      0.00      0.00         0\n",
      "       I-nat       0.00      0.00      0.00         0\n",
      "\n",
      "    accuracy                           0.72       585\n",
      "   macro avg       0.06      0.06      0.06       585\n",
      "weighted avg       0.55      0.72      0.62       585\n",
      "\n"
     ]
    },
    {
     "name": "stderr",
     "output_type": "stream",
     "text": [
      "c:\\Users\\admin\\AppData\\Local\\Programs\\Python\\Python39\\lib\\site-packages\\sklearn\\metrics\\_classification.py:1531: UndefinedMetricWarning: Precision is ill-defined and being set to 0.0 in labels with no predicted samples. Use `zero_division` parameter to control this behavior.\n",
      "  _warn_prf(average, modifier, f\"{metric.capitalize()} is\", len(result))\n",
      "c:\\Users\\admin\\AppData\\Local\\Programs\\Python\\Python39\\lib\\site-packages\\sklearn\\metrics\\_classification.py:1531: UndefinedMetricWarning: Recall is ill-defined and being set to 0.0 in labels with no true samples. Use `zero_division` parameter to control this behavior.\n",
      "  _warn_prf(average, modifier, f\"{metric.capitalize()} is\", len(result))\n",
      "c:\\Users\\admin\\AppData\\Local\\Programs\\Python\\Python39\\lib\\site-packages\\sklearn\\metrics\\_classification.py:1531: UndefinedMetricWarning: F-score is ill-defined and being set to 0.0 in labels with no true nor predicted samples. Use `zero_division` parameter to control this behavior.\n",
      "  _warn_prf(average, modifier, f\"{metric.capitalize()} is\", len(result))\n",
      "c:\\Users\\admin\\AppData\\Local\\Programs\\Python\\Python39\\lib\\site-packages\\sklearn\\metrics\\_classification.py:1531: UndefinedMetricWarning: Precision is ill-defined and being set to 0.0 in labels with no predicted samples. Use `zero_division` parameter to control this behavior.\n",
      "  _warn_prf(average, modifier, f\"{metric.capitalize()} is\", len(result))\n",
      "c:\\Users\\admin\\AppData\\Local\\Programs\\Python\\Python39\\lib\\site-packages\\sklearn\\metrics\\_classification.py:1531: UndefinedMetricWarning: Recall is ill-defined and being set to 0.0 in labels with no true samples. Use `zero_division` parameter to control this behavior.\n",
      "  _warn_prf(average, modifier, f\"{metric.capitalize()} is\", len(result))\n",
      "c:\\Users\\admin\\AppData\\Local\\Programs\\Python\\Python39\\lib\\site-packages\\sklearn\\metrics\\_classification.py:1531: UndefinedMetricWarning: F-score is ill-defined and being set to 0.0 in labels with no true nor predicted samples. Use `zero_division` parameter to control this behavior.\n",
      "  _warn_prf(average, modifier, f\"{metric.capitalize()} is\", len(result))\n",
      "c:\\Users\\admin\\AppData\\Local\\Programs\\Python\\Python39\\lib\\site-packages\\sklearn\\metrics\\_classification.py:1531: UndefinedMetricWarning: Precision is ill-defined and being set to 0.0 in labels with no predicted samples. Use `zero_division` parameter to control this behavior.\n",
      "  _warn_prf(average, modifier, f\"{metric.capitalize()} is\", len(result))\n",
      "c:\\Users\\admin\\AppData\\Local\\Programs\\Python\\Python39\\lib\\site-packages\\sklearn\\metrics\\_classification.py:1531: UndefinedMetricWarning: Recall is ill-defined and being set to 0.0 in labels with no true samples. Use `zero_division` parameter to control this behavior.\n",
      "  _warn_prf(average, modifier, f\"{metric.capitalize()} is\", len(result))\n",
      "c:\\Users\\admin\\AppData\\Local\\Programs\\Python\\Python39\\lib\\site-packages\\sklearn\\metrics\\_classification.py:1531: UndefinedMetricWarning: F-score is ill-defined and being set to 0.0 in labels with no true nor predicted samples. Use `zero_division` parameter to control this behavior.\n",
      "  _warn_prf(average, modifier, f\"{metric.capitalize()} is\", len(result))\n"
     ]
    }
   ],
   "source": [
    "param_dist = {\n",
    "    'c1': [0, 0.1, 0.2, 0.5, 0.8, 1],\n",
    "    'c2': [0, 0.1, 0.2, 0.5, 0.8, 1],\n",
    "    'max_iterations': [100, 150, 200, 250, 300, 350, 400],\n",
    "    'all_possible_transitions': [True, False]\n",
    "}\n",
    "\n",
    "crf = CRF(algorithm='lbfgs')\n",
    "\n",
    "search = RandomizedSearchCV(crf, param_distributions=param_dist, n_iter=40, cv=2, verbose=2, n_jobs=6)\n",
    "\n",
    "search.fit(X_train, y_train)\n",
    "\n",
    "y_pred = search.predict(X_test)\n",
    "\n",
    "y_true = [item for sublist in y_test for item in sublist]\n",
    "y_pred_flat = [item for sublist in y_pred for item in sublist]\n",
    "\n",
    "f1 = f1_score(y_true, y_pred_flat, average='weighted')\n",
    "\n",
    "print(\"Лучшие параметры:\", search.best_params_)\n",
    "print(\"Лучший балл:\", search.best_score_)\n",
    "\n",
    "print(f1)\n",
    "\n",
    "print(classification_report(y_true, y_pred_flat, labels=label_counts.index))\n"
   ]
  },
  {
   "cell_type": "markdown",
   "metadata": {},
   "source": [
    "CRF плохо предсказывает малочисленные сущности, попробуем взять модель с  LSTM-слоями"
   ]
  },
  {
   "cell_type": "code",
   "execution_count": 283,
   "metadata": {},
   "outputs": [
    {
     "data": {
      "text/plain": [
       "(390, 9)"
      ]
     },
     "execution_count": 283,
     "metadata": {},
     "output_type": "execute_result"
    }
   ],
   "source": [
    "words = list(set(new_df['Word'].values))\n",
    "words.append('ENDPAD')\n",
    "num_words = len(words)\n",
    "tags = list(set(new_df['Tag'].values))\n",
    "num_tags = len(tags)\n",
    "num_words, num_tags"
   ]
  },
  {
   "cell_type": "code",
   "execution_count": 284,
   "metadata": {},
   "outputs": [],
   "source": [
    "word2idx = {w: i+1 for i, w in enumerate(words)}\n",
    "tag2idx = {t: i for i, t in enumerate(tags)}"
   ]
  },
  {
   "cell_type": "code",
   "execution_count": 285,
   "metadata": {},
   "outputs": [],
   "source": [
    "max_len = 100\n",
    "X = [[word2idx[w[0]] for w in s] for s in sentences]\n",
    "X = pad_sequences(maxlen=max_len, sequences=X, padding='post', value=num_words-1)\n",
    "\n",
    "y = [[tag2idx[w[1]] for w in s] for s in sentences] \n",
    "y = pad_sequences(maxlen=max_len, sequences=y, padding='post', value=tag2idx['O'])\n",
    "y = [to_categorical(i, num_classes=num_tags) for i in y]"
   ]
  },
  {
   "cell_type": "code",
   "execution_count": 286,
   "metadata": {},
   "outputs": [],
   "source": [
    "X_train, X_test, y_train, y_test = train_test_split(X, y, test_size=0.2, random_state=42)"
   ]
  },
  {
   "cell_type": "code",
   "execution_count": 287,
   "metadata": {},
   "outputs": [
    {
     "name": "stdout",
     "output_type": "stream",
     "text": [
      "Model: \"model_17\"\n",
      "_________________________________________________________________\n",
      " Layer (type)                Output Shape              Param #   \n",
      "=================================================================\n",
      " input_19 (InputLayer)       [(None, 100)]             0         \n",
      "                                                                 \n",
      " embedding_18 (Embedding)    (None, 100, 100)          39000     \n",
      "                                                                 \n",
      " bidirectional_29 (Bidirect  (None, 100, 200)          160800    \n",
      " ional)                                                          \n",
      "                                                                 \n",
      " time_distributed_15 (TimeD  (None, 100, 9)            1809      \n",
      " istributed)                                                     \n",
      "                                                                 \n",
      "=================================================================\n",
      "Total params: 201609 (787.54 KB)\n",
      "Trainable params: 201609 (787.54 KB)\n",
      "Non-trainable params: 0 (0.00 Byte)\n",
      "_________________________________________________________________\n"
     ]
    }
   ],
   "source": [
    "input_word = Input(shape=(max_len, ))\n",
    "model = Embedding(input_dim=num_words, output_dim=max_len)(input_word)\n",
    "model = Bidirectional(LSTM(units=100, return_sequences=True, recurrent_dropout=0.1))(model)\n",
    "out = TimeDistributed(Dense(num_tags, activation='softmax'))(model)\n",
    "model = Model(input_word, out)\n",
    "model.summary()"
   ]
  },
  {
   "cell_type": "code",
   "execution_count": 288,
   "metadata": {},
   "outputs": [
    {
     "name": "stdout",
     "output_type": "stream",
     "text": [
      "Epoch 1/5\n",
      "1/1 [==============================] - 5s 5s/step - loss: 2.1881 - accuracy: 0.1000 - val_loss: 2.0836 - val_accuracy: 0.9900\n",
      "Epoch 2/5\n",
      "1/1 [==============================] - 0s 469ms/step - loss: 2.1246 - accuracy: 0.9000 - val_loss: 1.9820 - val_accuracy: 0.9900\n"
     ]
    }
   ],
   "source": [
    "model.compile(optimizer='adam', \n",
    "              loss='categorical_crossentropy', \n",
    "              metrics=['accuracy'])\n",
    "\n",
    "early_stopping = EarlyStopping(monitor='val_accuracy', patience=1, verbose=0, mode='max', restore_best_weights=False)\n",
    "callbacks = [early_stopping]\n",
    "\n",
    "history = model.fit(\n",
    "    X_train, np.array(y_train),\n",
    "    validation_split=0.2,\n",
    "    batch_size = 32,\n",
    "    epochs = 5,\n",
    "    verbose = 1,\n",
    "    callbacks = callbacks\n",
    ")\n"
   ]
  },
  {
   "cell_type": "code",
   "execution_count": 289,
   "metadata": {},
   "outputs": [
    {
     "name": "stdout",
     "output_type": "stream",
     "text": [
      "Тренировочная потеря: [2.1881420612335205, 2.124581813812256]\n",
      "Тренировочная точность: [0.10000000149011612, 0.8999999761581421]\n",
      "Валидационная потеря: [2.0836193561553955, 1.981998324394226]\n",
      "Валидационная точность: [0.9900000095367432, 0.9900000095367432]\n"
     ]
    }
   ],
   "source": [
    "train_loss = history.history['loss']\n",
    "train_accuracy = history.history['accuracy']\n",
    "val_loss = history.history['val_loss']\n",
    "val_accuracy = history.history['val_accuracy']\n",
    "\n",
    "print(\"Тренировочная потеря:\", train_loss)\n",
    "print(\"Тренировочная точность:\", train_accuracy)\n",
    "print(\"Валидационная потеря:\", val_loss)\n",
    "print(\"Валидационная точность:\", val_accuracy)\n"
   ]
  },
  {
   "cell_type": "code",
   "execution_count": 290,
   "metadata": {},
   "outputs": [
    {
     "data": {
      "image/png": "[encoded data removed]",
      "text/plain": [
       "<Figure size 640x480 with 1 Axes>"
      ]
     },
     "metadata": {},
     "output_type": "display_data"
    },
    {
     "data": {
      "image/png": "[encoded data removed]",
      "text/plain": [
       "<Figure size 640x480 with 1 Axes>"
      ]
     },
     "metadata": {},
     "output_type": "display_data"
    }
   ],
   "source": [
    "# Визуализация потерь\n",
    "plt.plot(train_loss, label='Тренировочная потеря')\n",
    "plt.plot(val_loss, label='Валидационная потеря')\n",
    "plt.title('Потеря модели')\n",
    "plt.ylabel('Потеря')\n",
    "plt.xlabel('Эпохи')\n",
    "plt.legend()\n",
    "plt.show()\n",
    "\n",
    "# Визуализация точности\n",
    "plt.plot(train_accuracy, label='Тренировочная точность')\n",
    "plt.plot(val_accuracy, label='Валидационная точность')\n",
    "plt.title('Точность модели')\n",
    "plt.ylabel('Точность')\n",
    "plt.xlabel('Эпохи')\n",
    "plt.legend()\n",
    "plt.show()\n"
   ]
  },
  {
   "cell_type": "code",
   "execution_count": 291,
   "metadata": {},
   "outputs": [
    {
     "name": "stdout",
     "output_type": "stream",
     "text": [
      "1/1 [==============================] - 0s 425ms/step\n",
      "F1 Score: 0.6245086705202312\n",
      "Recall: 0.73\n"
     ]
    }
   ],
   "source": [
    "# Получаем предсказания модели\n",
    "predictions = model.predict(X_test)\n",
    "\n",
    "# Преобразовываем предсказания в класс\n",
    "predicted_classes = np.argmax(predictions, axis=-1)  \n",
    "true_classes = np.argmax(np.array(y_test), axis=-1) \n",
    "\n",
    "f1 = f1_score(true_classes.flatten(), predicted_classes.flatten(), average='weighted')\n",
    "recall = recall_score(true_classes.flatten(), predicted_classes.flatten(), average='weighted')\n",
    "\n",
    "print('F1 Score:', f1)\n",
    "print('Recall:', recall)\n"
   ]
  },
  {
   "cell_type": "code",
   "execution_count": 292,
   "metadata": {},
   "outputs": [
    {
     "name": "stdout",
     "output_type": "stream",
     "text": [
      "Classification Report \n",
      "               precision    recall  f1-score   support\n",
      "\n",
      "           0       0.00      0.00      0.00         1\n",
      "           1       0.00      0.00      0.00         7\n",
      "           2       0.74      0.99      0.84        74\n",
      "           3       0.00      0.00      0.00         2\n",
      "           4       0.00      0.00      0.00        10\n",
      "           6       0.00      0.00      0.00         2\n",
      "           7       0.00      0.00      0.00         2\n",
      "           8       0.00      0.00      0.00         2\n",
      "\n",
      "    accuracy                           0.73       100\n",
      "   macro avg       0.09      0.12      0.11       100\n",
      "weighted avg       0.55      0.73      0.62       100\n",
      "\n"
     ]
    }
   ],
   "source": [
    "report = classification_report(true_classes.flatten(), predicted_classes.flatten(), zero_division=0)\n",
    "print(\"Classification Report \\n\", report)\n"
   ]
  },
  {
   "cell_type": "markdown",
   "metadata": {},
   "source": [
    "Добавим слой LSTM, Dropout, добавим веса классам"
   ]
  },
  {
   "cell_type": "code",
   "execution_count": 293,
   "metadata": {},
   "outputs": [],
   "source": [
    "from sklearn.utils import class_weight\n",
    "\n",
    "class_labels = np.unique(label_counts.index)\n",
    "weights = 1/label_counts.values\n",
    "class_weights = dict(enumerate(weights))\n",
    "class_weights = dict(enumerate(weights))"
   ]
  },
  {
   "cell_type": "code",
   "execution_count": 294,
   "metadata": {},
   "outputs": [
    {
     "name": "stdout",
     "output_type": "stream",
     "text": [
      "Model: \"model_18\"\n",
      "_________________________________________________________________\n",
      " Layer (type)                Output Shape              Param #   \n",
      "=================================================================\n",
      " input_20 (InputLayer)       [(None, 100)]             0         \n",
      "                                                                 \n",
      " embedding_19 (Embedding)    (None, 100, 100)          39000     \n",
      "                                                                 \n",
      " spatial_dropout1d_15 (Spat  (None, 100, 100)          0         \n",
      " ialDropout1D)                                                   \n",
      "                                                                 \n",
      " bidirectional_30 (Bidirect  (None, 100, 200)          160800    \n",
      " ional)                                                          \n",
      "                                                                 \n",
      " bidirectional_31 (Bidirect  (None, 100, 200)          240800    \n",
      " ional)                                                          \n",
      "                                                                 \n",
      " bidirectional_32 (Bidirect  (None, 100, 200)          240800    \n",
      " ional)                                                          \n",
      "                                                                 \n",
      " time_distributed_16 (TimeD  (None, 100, 9)            1809      \n",
      " istributed)                                                     \n",
      "                                                                 \n",
      "=================================================================\n",
      "Total params: 683209 (2.61 MB)\n",
      "Trainable params: 683209 (2.61 MB)\n",
      "Non-trainable params: 0 (0.00 Byte)\n",
      "_________________________________________________________________\n"
     ]
    }
   ],
   "source": [
    "input_word = Input(shape=(max_len, ))\n",
    "model = Embedding(input_dim=num_words, output_dim=max_len)(input_word)\n",
    "model = SpatialDropout1D(0.1)(model)\n",
    "model = Bidirectional(LSTM(units=100, return_sequences=True, recurrent_dropout=0.2))(model)\n",
    "model = Bidirectional(LSTM(units=100, return_sequences=True, recurrent_dropout=0.2))(model)\n",
    "model = Bidirectional(LSTM(units=100, return_sequences=True, recurrent_dropout=0.2))(model)\n",
    "out = TimeDistributed(Dense(num_tags, activation='softmax'))(model)\n",
    "model = Model(input_word, out)\n",
    "model.summary()"
   ]
  },
  {
   "cell_type": "code",
   "execution_count": 295,
   "metadata": {},
   "outputs": [
    {
     "name": "stdout",
     "output_type": "stream",
     "text": [
      "Epoch 1/5\n",
      "1/1 [==============================] - 13s 13s/step - loss: 1.0494e-04 - accuracy: 0.0000e+00 - val_loss: 2.1769 - val_accuracy: 0.9400\n",
      "Epoch 2/5\n",
      "1/1 [==============================] - 2s 2s/step - loss: 1.0378e-04 - accuracy: 0.6700 - val_loss: 2.1449 - val_accuracy: 0.9900\n",
      "Epoch 3/5\n",
      "1/1 [==============================] - 3s 3s/step - loss: 1.0232e-04 - accuracy: 0.9000 - val_loss: 2.1105 - val_accuracy: 0.9900\n"
     ]
    }
   ],
   "source": [
    "model.compile(optimizer='adam', \n",
    "              loss='categorical_crossentropy', \n",
    "              metrics=['accuracy'])\n",
    "\n",
    "early_stopping = EarlyStopping(monitor='val_accuracy', patience=1, verbose=0, mode='max', restore_best_weights=False)\n",
    "callbacks = [early_stopping]\n",
    "\n",
    "history = model.fit(\n",
    "    X_train, np.array(y_train),\n",
    "    validation_split=0.2,\n",
    "    batch_size = 32,\n",
    "    epochs = 5,\n",
    "    verbose = 1,\n",
    "    callbacks = callbacks,\n",
    "    class_weight=class_weights\n",
    ")\n"
   ]
  },
  {
   "cell_type": "code",
   "execution_count": 296,
   "metadata": {},
   "outputs": [
    {
     "name": "stdout",
     "output_type": "stream",
     "text": [
      "Тренировочная потеря: [0.00010493657464394346, 0.00010378404840594158, 0.00010231540363747627]\n",
      "Тренировочная точность: [0.0, 0.6700000166893005, 0.8999999761581421]\n",
      "Валидационная потеря: [2.176927328109741, 2.144911289215088, 2.1105332374572754]\n",
      "Валидационная точность: [0.9399999976158142, 0.9900000095367432, 0.9900000095367432]\n"
     ]
    }
   ],
   "source": [
    "train_loss = history.history['loss']\n",
    "train_accuracy = history.history['accuracy']\n",
    "val_loss = history.history['val_loss']\n",
    "val_accuracy = history.history['val_accuracy']\n",
    "\n",
    "print(\"Тренировочная потеря:\", train_loss)\n",
    "print(\"Тренировочная точность:\", train_accuracy)\n",
    "print(\"Валидационная потеря:\", val_loss)\n",
    "print(\"Валидационная точность:\", val_accuracy)\n"
   ]
  },
  {
   "cell_type": "code",
   "execution_count": 297,
   "metadata": {},
   "outputs": [
    {
     "data": {
      "image/png": "[encoded data removed]",
      "text/plain": [
       "<Figure size 640x480 with 1 Axes>"
      ]
     },
     "metadata": {},
     "output_type": "display_data"
    },
    {
     "data": {
      "image/png": "[encoded data removed]",
      "text/plain": [
       "<Figure size 640x480 with 1 Axes>"
      ]
     },
     "metadata": {},
     "output_type": "display_data"
    }
   ],
   "source": [
    "# Визуализация потерь\n",
    "plt.plot(train_loss, label='Тренировочная потеря')\n",
    "plt.plot(val_loss, label='Валидационная потеря')\n",
    "plt.title('Потеря модели')\n",
    "plt.ylabel('Потеря')\n",
    "plt.xlabel('Эпохи')\n",
    "plt.legend()\n",
    "plt.show()\n",
    "\n",
    "# Визуализация точности\n",
    "plt.plot(train_accuracy, label='Тренировочная точность')\n",
    "plt.plot(val_accuracy, label='Валидационная точность')\n",
    "plt.title('Точность модели')\n",
    "plt.ylabel('Точность')\n",
    "plt.xlabel('Эпохи')\n",
    "plt.legend()\n",
    "plt.show()\n"
   ]
  },
  {
   "cell_type": "code",
   "execution_count": 298,
   "metadata": {},
   "outputs": [
    {
     "name": "stdout",
     "output_type": "stream",
     "text": [
      "1/1 [==============================] - 2s 2s/step\n",
      "F1 Score: 0.6294252873563217\n",
      "Recall: 0.74\n"
     ]
    }
   ],
   "source": [
    "# Получаем предсказания модели\n",
    "predictions = model.predict(X_test)\n",
    "\n",
    "# Преобразовываем предсказания в класс\n",
    "predicted_classes = np.argmax(predictions, axis=-1)  \n",
    "true_classes = np.argmax(np.array(y_test), axis=-1) \n",
    "\n",
    "f1 = f1_score(true_classes.flatten(), predicted_classes.flatten(), average='weighted')\n",
    "recall = recall_score(true_classes.flatten(), predicted_classes.flatten(), average='weighted')\n",
    "\n",
    "print('F1 Score:', f1)\n",
    "print('Recall:', recall)\n"
   ]
  },
  {
   "cell_type": "code",
   "execution_count": 299,
   "metadata": {},
   "outputs": [
    {
     "name": "stdout",
     "output_type": "stream",
     "text": [
      "Classification Report \n",
      "               precision    recall  f1-score   support\n",
      "\n",
      "           0       0.00      0.00      0.00         1\n",
      "           1       0.00      0.00      0.00         7\n",
      "           2       0.74      1.00      0.85        74\n",
      "           3       0.00      0.00      0.00         2\n",
      "           4       0.00      0.00      0.00        10\n",
      "           6       0.00      0.00      0.00         2\n",
      "           7       0.00      0.00      0.00         2\n",
      "           8       0.00      0.00      0.00         2\n",
      "\n",
      "    accuracy                           0.74       100\n",
      "   macro avg       0.09      0.12      0.11       100\n",
      "weighted avg       0.55      0.74      0.63       100\n",
      "\n"
     ]
    }
   ],
   "source": [
    "report = classification_report(true_classes.flatten(), predicted_classes.flatten(), zero_division=0)\n",
    "print(\"Classification Report \\n\", report)\n"
   ]
  },
  {
   "cell_type": "markdown",
   "metadata": {},
   "source": [
    "Результаты не изменилсь. Добавление новый слоев не привело к изменениям, модель достаточно обучилась уже на 2 эпохе, но при этом плохо распознает малочисленные классы."
   ]
  }
 ],
 "metadata": {
  "colab": {
   "provenance": []
  },
  "kernelspec": {
   "display_name": "Python 3",
   "name": "python3"
  },
  "language_info": {
   "codemirror_mode": {
    "name": "ipython",
    "version": 3
   },
   "file_extension": ".py",
   "mimetype": "text/x-python",
   "name": "python",
   "nbconvert_exporter": "python",
   "pygments_lexer": "ipython3",
   "version": "3.9.1"
  },
  "widgets": {
   "application/vnd.jupyter.widget-state+json": {
    "0f0dc7880fa14f57870ed4f0d01484b1": {
     "model_module": "@jupyter-widgets/controls",
     "model_module_version": "1.5.0",
     "model_name": "DescriptionStyleModel",
     "state": {
      "_model_module": "@jupyter-widgets/controls",
      "_model_module_version": "1.5.0",
      "_model_name": "DescriptionStyleModel",
      "_view_count": null,
      "_view_module": "@jupyter-widgets/base",
      "_view_module_version": "1.2.0",
      "_view_name": "StyleView",
      "description_width": ""
     }
    },
    "1aedb01f4b1747fd851250753f0425ac": {
     "model_module": "@jupyter-widgets/controls",
     "model_module_version": "1.5.0",
     "model_name": "ProgressStyleModel",
     "state": {
      "_model_module": "@jupyter-widgets/controls",
      "_model_module_version": "1.5.0",
      "_model_name": "ProgressStyleModel",
      "_view_count": null,
      "_view_module": "@jupyter-widgets/base",
      "_view_module_version": "1.2.0",
      "_view_name": "StyleView",
      "bar_color": null,
      "description_width": ""
     }
    },
    "38ca03ac3a5344289ff35aa5874b65c5": {
     "model_module": "@jupyter-widgets/controls",
     "model_module_version": "1.5.0",
     "model_name": "HBoxModel",
     "state": {
      "_dom_classes": [],
      "_model_module": "@jupyter-widgets/controls",
      "_model_module_version": "1.5.0",
      "_model_name": "HBoxModel",
      "_view_count": null,
      "_view_module": "@jupyter-widgets/controls",
      "_view_module_version": "1.5.0",
      "_view_name": "HBoxView",
      "box_style": "",
      "children": [
       "IPY_MODEL_9d772b2ed2ea4c688bdb916fc7de4d81",
       "IPY_MODEL_3c60859bdd8d4216a81c722f40ec53a5",
       "IPY_MODEL_6698177a5dce407da0d7984a2a46eb80"
      ],
      "layout": "IPY_MODEL_444d91465adc48af83dda7a8ff28e75b"
     }
    },
    "3c60859bdd8d4216a81c722f40ec53a5": {
     "model_module": "@jupyter-widgets/controls",
     "model_module_version": "1.5.0",
     "model_name": "FloatProgressModel",
     "state": {
      "_dom_classes": [],
      "_model_module": "@jupyter-widgets/controls",
      "_model_module_version": "1.5.0",
      "_model_name": "FloatProgressModel",
      "_view_count": null,
      "_view_module": "@jupyter-widgets/controls",
      "_view_module_version": "1.5.0",
      "_view_name": "ProgressView",
      "bar_style": "danger",
      "description": "",
      "description_tooltip": null,
      "layout": "IPY_MODEL_9a70dfe151054a7ab7decca5ac935865",
      "max": 4,
      "min": 0,
      "orientation": "horizontal",
      "style": "IPY_MODEL_1aedb01f4b1747fd851250753f0425ac",
      "value": 1
     }
    },
    "444d91465adc48af83dda7a8ff28e75b": {
     "model_module": "@jupyter-widgets/base",
     "model_module_version": "1.2.0",
     "model_name": "LayoutModel",
     "state": {
      "_model_module": "@jupyter-widgets/base",
      "_model_module_version": "1.2.0",
      "_model_name": "LayoutModel",
      "_view_count": null,
      "_view_module": "@jupyter-widgets/base",
      "_view_module_version": "1.2.0",
      "_view_name": "LayoutView",
      "align_content": null,
      "align_items": null,
      "align_self": null,
      "border": null,
      "bottom": null,
      "display": null,
      "flex": null,
      "flex_flow": null,
      "grid_area": null,
      "grid_auto_columns": null,
      "grid_auto_flow": null,
      "grid_auto_rows": null,
      "grid_column": null,
      "grid_gap": null,
      "grid_row": null,
      "grid_template_areas": null,
      "grid_template_columns": null,
      "grid_template_rows": null,
      "height": null,
      "justify_content": null,
      "justify_items": null,
      "left": null,
      "margin": null,
      "max_height": null,
      "max_width": null,
      "min_height": null,
      "min_width": null,
      "object_fit": null,
      "object_position": null,
      "order": null,
      "overflow": null,
      "overflow_x": null,
      "overflow_y": null,
      "padding": null,
      "right": null,
      "top": null,
      "visibility": null,
      "width": null
     }
    },
    "6698177a5dce407da0d7984a2a46eb80": {
     "model_module": "@jupyter-widgets/controls",
     "model_module_version": "1.5.0",
     "model_name": "HTMLModel",
     "state": {
      "_dom_classes": [],
      "_model_module": "@jupyter-widgets/controls",
      "_model_module_version": "1.5.0",
      "_model_name": "HTMLModel",
      "_view_count": null,
      "_view_module": "@jupyter-widgets/controls",
      "_view_module_version": "1.5.0",
      "_view_name": "HTMLView",
      "description": "",
      "description_tooltip": null,
      "layout": "IPY_MODEL_a79f2b0ec7b54b14b02a172ed810e2b6",
      "placeholder": "​",
      "style": "IPY_MODEL_0f0dc7880fa14f57870ed4f0d01484b1",
      "value": " 1/4 [00:04&lt;00:11,  4.00s/it]"
     }
    },
    "6ecafe28aa284aedb3aa2434f9a08777": {
     "model_module": "@jupyter-widgets/base",
     "model_module_version": "1.2.0",
     "model_name": "LayoutModel",
     "state": {
      "_model_module": "@jupyter-widgets/base",
      "_model_module_version": "1.2.0",
      "_model_name": "LayoutModel",
      "_view_count": null,
      "_view_module": "@jupyter-widgets/base",
      "_view_module_version": "1.2.0",
      "_view_name": "LayoutView",
      "align_content": null,
      "align_items": null,
      "align_self": null,
      "border": null,
      "bottom": null,
      "display": null,
      "flex": null,
      "flex_flow": null,
      "grid_area": null,
      "grid_auto_columns": null,
      "grid_auto_flow": null,
      "grid_auto_rows": null,
      "grid_column": null,
      "grid_gap": null,
      "grid_row": null,
      "grid_template_areas": null,
      "grid_template_columns": null,
      "grid_template_rows": null,
      "height": null,
      "justify_content": null,
      "justify_items": null,
      "left": null,
      "margin": null,
      "max_height": null,
      "max_width": null,
      "min_height": null,
      "min_width": null,
      "object_fit": null,
      "object_position": null,
      "order": null,
      "overflow": null,
      "overflow_x": null,
      "overflow_y": null,
      "padding": null,
      "right": null,
      "top": null,
      "visibility": null,
      "width": null
     }
    },
    "896469e4dc974d73b16a2339265b8f01": {
     "model_module": "@jupyter-widgets/controls",
     "model_module_version": "1.5.0",
     "model_name": "DescriptionStyleModel",
     "state": {
      "_model_module": "@jupyter-widgets/controls",
      "_model_module_version": "1.5.0",
      "_model_name": "DescriptionStyleModel",
      "_view_count": null,
      "_view_module": "@jupyter-widgets/base",
      "_view_module_version": "1.2.0",
      "_view_name": "StyleView",
      "description_width": ""
     }
    },
    "9a70dfe151054a7ab7decca5ac935865": {
     "model_module": "@jupyter-widgets/base",
     "model_module_version": "1.2.0",
     "model_name": "LayoutModel",
     "state": {
      "_model_module": "@jupyter-widgets/base",
      "_model_module_version": "1.2.0",
      "_model_name": "LayoutModel",
      "_view_count": null,
      "_view_module": "@jupyter-widgets/base",
      "_view_module_version": "1.2.0",
      "_view_name": "LayoutView",
      "align_content": null,
      "align_items": null,
      "align_self": null,
      "border": null,
      "bottom": null,
      "display": null,
      "flex": null,
      "flex_flow": null,
      "grid_area": null,
      "grid_auto_columns": null,
      "grid_auto_flow": null,
      "grid_auto_rows": null,
      "grid_column": null,
      "grid_gap": null,
      "grid_row": null,
      "grid_template_areas": null,
      "grid_template_columns": null,
      "grid_template_rows": null,
      "height": null,
      "justify_content": null,
      "justify_items": null,
      "left": null,
      "margin": null,
      "max_height": null,
      "max_width": null,
      "min_height": null,
      "min_width": null,
      "object_fit": null,
      "object_position": null,
      "order": null,
      "overflow": null,
      "overflow_x": null,
      "overflow_y": null,
      "padding": null,
      "right": null,
      "top": null,
      "visibility": null,
      "width": null
     }
    },
    "9d772b2ed2ea4c688bdb916fc7de4d81": {
     "model_module": "@jupyter-widgets/controls",
     "model_module_version": "1.5.0",
     "model_name": "HTMLModel",
     "state": {
      "_dom_classes": [],
      "_model_module": "@jupyter-widgets/controls",
      "_model_module_version": "1.5.0",
      "_model_name": "HTMLModel",
      "_view_count": null,
      "_view_module": "@jupyter-widgets/controls",
      "_view_module_version": "1.5.0",
      "_view_name": "HTMLView",
      "description": "",
      "description_tooltip": null,
      "layout": "IPY_MODEL_6ecafe28aa284aedb3aa2434f9a08777",
      "placeholder": "​",
      "style": "IPY_MODEL_896469e4dc974d73b16a2339265b8f01",
      "value": " 25%"
     }
    },
    "a79f2b0ec7b54b14b02a172ed810e2b6": {
     "model_module": "@jupyter-widgets/base",
     "model_module_version": "1.2.0",
     "model_name": "LayoutModel",
     "state": {
      "_model_module": "@jupyter-widgets/base",
      "_model_module_version": "1.2.0",
      "_model_name": "LayoutModel",
      "_view_count": null,
      "_view_module": "@jupyter-widgets/base",
      "_view_module_version": "1.2.0",
      "_view_name": "LayoutView",
      "align_content": null,
      "align_items": null,
      "align_self": null,
      "border": null,
      "bottom": null,
      "display": null,
      "flex": null,
      "flex_flow": null,
      "grid_area": null,
      "grid_auto_columns": null,
      "grid_auto_flow": null,
      "grid_auto_rows": null,
      "grid_column": null,
      "grid_gap": null,
      "grid_row": null,
      "grid_template_areas": null,
      "grid_template_columns": null,
      "grid_template_rows": null,
      "height": null,
      "justify_content": null,
      "justify_items": null,
      "left": null,
      "margin": null,
      "max_height": null,
      "max_width": null,
      "min_height": null,
      "min_width": null,
      "object_fit": null,
      "object_position": null,
      "order": null,
      "overflow": null,
      "overflow_x": null,
      "overflow_y": null,
      "padding": null,
      "right": null,
      "top": null,
      "visibility": null,
      "width": null
     }
    }
   }
  }
 },
 "nbformat": 4,
 "nbformat_minor": 0
}
